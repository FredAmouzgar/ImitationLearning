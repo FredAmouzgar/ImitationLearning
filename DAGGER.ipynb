{
 "cells": [
  {
   "cell_type": "markdown",
   "id": "a855cf77",
   "metadata": {},
   "source": [
    "# DAGGER: An Online Imitation Learning Algorithm"
   ]
  },
  {
   "cell_type": "markdown",
   "id": "32281c25",
   "metadata": {},
   "source": [
    "<img src=\"https://raw.githubusercontent.com/FredAmouzgar/ImitationLearning/main/imgs/DAGGER.png\" width=500>\n",
    "\n",
    "Source: DAGGER paper <a href=\"https://arxiv.org/abs/1011.0686\">A Reduction of Imitation Learning and Structured Prediction to No-Regret Online Learning</a>"
   ]
  },
  {
   "cell_type": "markdown",
   "id": "1441cf93",
   "metadata": {},
   "source": [
    "## Defining the DAGGER agents' Neural Networks:"
   ]
  },
  {
   "cell_type": "code",
   "execution_count": 1,
   "id": "4b5d30bc",
   "metadata": {},
   "outputs": [
    {
     "name": "stdout",
     "output_type": "stream",
     "text": [
      "<LunarLander<LunarLander-v2>> environment started ...\n",
      "Init state: [-0.00459795  1.4153773  -0.46573418  0.19808556  0.00533464  0.10549586\n",
      "  0.          0.        ]\n"
     ]
    }
   ],
   "source": [
    "import torch\n",
    "import torch.nn as nn\n",
    "import torch.nn.functional as F\n",
    "from collections import deque\n",
    "import numpy as np\n",
    "import torch\n",
    "import gym\n",
    "import time, random\n",
    "from tqdm import tqdm\n",
    "from torch.utils.data import TensorDataset, DataLoader\n",
    "\n",
    "device = torch.device(\"cuda:0\" if torch.cuda.is_available() else \"cpu\")\n",
    "\n",
    "env = gym.make(\"LunarLander-v2\")\n",
    "print(env.unwrapped, \"environment started ...\")\n",
    "\n",
    "# reset the environment\n",
    "state = env.reset()\n",
    "print(\"Init state:\", state)\n",
    "\n",
    "# number of actions\n",
    "action_size = env.action_space.n\n",
    "\n",
    "# Init the state space and finding its size\n",
    "state_size = env.observation_space.shape[0]\n",
    "\n",
    "class Network(nn.Module):\n",
    "    \"\"\"Actor (Policy) Model.\"\"\"\n",
    "\n",
    "    def __init__(self, state_size, action_size):\n",
    "        \"\"\"Initialize parameters and build model.\n",
    "        Params\n",
    "        ======\n",
    "            state_size (int): Dimension of each state\n",
    "            action_size (int): Dimension of each action\n",
    "            seed (int): Random seed\n",
    "        \"\"\"\n",
    "        super(Network, self).__init__()\n",
    "        self.fc1 = nn.Linear(state_size, 64)\n",
    "        self.fc2 = nn.Linear(64, 64)\n",
    "        self.fc3 = nn.Linear(64, action_size)\n",
    "\n",
    "    def forward(self, state):\n",
    "        \"\"\"Builds a network that maps state -> action values.\"\"\"\n",
    "        #pass\n",
    "        x = F.relu(self.fc1(state))\n",
    "        x = F.relu(self.fc2(x))\n",
    "        return self.fc3(x)\n",
    "    \n",
    "class LearnerNetwork(nn.Module):\n",
    "    \"\"\"Actor (Policy) Model.\"\"\"\n",
    "\n",
    "    def __init__(self, state_size, action_size): #, seed):\n",
    "        \"\"\"Initialize parameters and build model.\n",
    "        Params\n",
    "        ======\n",
    "            state_size (int): Dimension of each state\n",
    "            action_size (int): Dimension of each action\n",
    "            seed (int): Random seed\n",
    "        \"\"\"\n",
    "        super(LearnerNetwork, self).__init__()\n",
    "        self.fc1 = nn.Linear(state_size, 64)\n",
    "        self.fc2 = nn.Linear(64, action_size)\n",
    "\n",
    "    def forward(self, state):\n",
    "        \"\"\"Builds a network that maps state -> action values.\"\"\"\n",
    "        #pass\n",
    "        x = F.relu(self.fc1(state))\n",
    "        return self.fc2(x)"
   ]
  },
  {
   "cell_type": "markdown",
   "id": "67483e4f",
   "metadata": {},
   "source": [
    "## The Expert Class:"
   ]
  },
  {
   "cell_type": "code",
   "execution_count": 2,
   "id": "ddfbb4f5",
   "metadata": {},
   "outputs": [],
   "source": [
    "class Agent:\n",
    "    \"\"\"Interacts with and learns from the environment.\"\"\"\n",
    "\n",
    "    def __init__(self, state_size, action_size):\n",
    "        self.state_size = state_size\n",
    "        self.action_size = action_size\n",
    "        # Agent's Network\n",
    "        self.brain = Network(state_size, action_size).to(device)\n",
    "\n",
    "    def act(self, state):\n",
    "        \"\"\"Returns actions for given state as per current policy.\"\"\"\n",
    "        state = torch.from_numpy(state).float().unsqueeze(0).to(device)\n",
    "        self.brain.eval()\n",
    "        with torch.no_grad():\n",
    "            action_values = self.brain(state)\n",
    "        self.brain.train()\n",
    "\n",
    "        action = np.argmax(action_values.cpu().data.numpy()).astype(np.int32)\n",
    "        action = np.int32(action)\n",
    "        return action"
   ]
  },
  {
   "cell_type": "markdown",
   "id": "04026cb3",
   "metadata": {},
   "source": [
    "## Loading the Expert and Initializing the Learner:"
   ]
  },
  {
   "cell_type": "code",
   "execution_count": 3,
   "id": "9ef7014b",
   "metadata": {},
   "outputs": [
    {
     "name": "stdout",
     "output_type": "stream",
     "text": [
      "Expert loaded ...\n",
      "Learner initialized ...\n"
     ]
    }
   ],
   "source": [
    "# Init our expert\n",
    "expert = Agent(state_size=state_size, action_size=action_size)\n",
    "# Loading expert's brain\n",
    "expert.brain.load_state_dict(torch.load('LunarLander_Expert.pth'))\n",
    "print(\"Expert loaded ...\")\n",
    "\n",
    "learner = LearnerNetwork(state_size=state_size, action_size=action_size).to(device)\n",
    "print(\"Learner initialized ...\")"
   ]
  },
  {
   "cell_type": "markdown",
   "id": "e02ca533",
   "metadata": {},
   "source": [
    "## A function that tests an agent:"
   ]
  },
  {
   "cell_type": "code",
   "execution_count": 4,
   "id": "c5ae0be6",
   "metadata": {},
   "outputs": [],
   "source": [
    "def test_agent(agent, env, epochs=1):\n",
    "    max_t = 5000\n",
    "    for i_episode in range(epochs):\n",
    "        state = env.reset()\n",
    "        score = 0\n",
    "        for t in range(max_t):\n",
    "            env.render()\n",
    "            time.sleep(0.01)\n",
    "            state = torch.from_numpy(state).float().unsqueeze(0).to(device)\n",
    "            with torch.no_grad():\n",
    "                action_values = agent(state)\n",
    "            action = np.argmax(action_values.cpu().data.numpy()).astype(np.int32)\n",
    "            next_state, reward, done, _ = env.step(action)\n",
    "            score += reward\n",
    "            state = next_state\n",
    "            if done:\n",
    "                break\n",
    "        #print(f\"Score:{score}\")\n",
    "    time.sleep(1)\n",
    "    env.close() # closing the environment\n",
    "    return score"
   ]
  },
  {
   "cell_type": "markdown",
   "id": "024c435d",
   "metadata": {},
   "source": [
    "## Testing the Expert:"
   ]
  },
  {
   "cell_type": "code",
   "execution_count": 5,
   "id": "8438843a",
   "metadata": {},
   "outputs": [
    {
     "data": {
      "text/plain": [
       "271.59183570364365"
      ]
     },
     "execution_count": 5,
     "metadata": {},
     "output_type": "execute_result"
    }
   ],
   "source": [
    "test_agent(agent=expert.brain, env=env, epochs=1)"
   ]
  },
  {
   "cell_type": "markdown",
   "id": "3c04515a",
   "metadata": {},
   "source": [
    "## Testing the untrained agent:"
   ]
  },
  {
   "cell_type": "code",
   "execution_count": 6,
   "id": "cf81184d",
   "metadata": {},
   "outputs": [
    {
     "data": {
      "text/plain": [
       "-137.0171292740436"
      ]
     },
     "execution_count": 6,
     "metadata": {},
     "output_type": "execute_result"
    }
   ],
   "source": [
    "test_agent(agent=learner, env=env, epochs=1)"
   ]
  },
  {
   "cell_type": "markdown",
   "id": "93a67b90",
   "metadata": {},
   "source": [
    "## Implementing DAGGER:\n",
    "<img src=\"https://raw.githubusercontent.com/FredAmouzgar/ImitationLearning/main/imgs/DAGGER.png\" width=500>"
   ]
  },
  {
   "cell_type": "code",
   "execution_count": 7,
   "id": "0a4567a2",
   "metadata": {},
   "outputs": [
    {
     "name": "stderr",
     "output_type": "stream",
     "text": [
      "                                                                                                                 \r"
     ]
    }
   ],
   "source": [
    "def train_learner(learner, X, y, optim):\n",
    "    loss_fn = nn.CrossEntropyLoss()\n",
    "    train_dataset = TensorDataset(X, y)\n",
    "    loss_sum = 0\n",
    "    dataloader = DataLoader(train_dataset, batch_size=64)\n",
    "    for x_batch, y_batch in dataloader:\n",
    "        predictions = learner(x_batch)\n",
    "        loss = loss_fn(predictions, y_batch)\n",
    "        loss_sum += loss\n",
    "        optim.zero_grad()\n",
    "        loss.backward()\n",
    "        optim.step()\n",
    "    #print(\"# LOSS:\", loss_sum)\n",
    "    return loss_sum\n",
    "\n",
    "T = 5000  # @param: ['1000', '5000']\n",
    "N = 20  # @param: ['20', '25']\n",
    "Beta_base = 0.9  # @param: ['0.5', '0.9'] \n",
    "D_states = None\n",
    "loss = 'Unknown'\n",
    "testing_scores, losses = [], []\n",
    "optimizer = torch.optim.Adam(learner.parameters(), lr=0.001)\n",
    "episode_loop = tqdm(range(1, N + 1), desc=\"Episode 0 | Avg Score: None\", leave=False)\n",
    "for i in episode_loop:\n",
    "    state = env.reset()\n",
    "    score = 0\n",
    "    Beta = Beta_base ** (i-1)\n",
    "    #print(\"-----------------\")\n",
    "    #print(\"*** i:\", i, \"\\t\", \"Beta:\", Beta)\n",
    "    episode_loop.set_description_str('Episode {} | Beta: {:.2f} | Training ...'.format(i, Beta))\n",
    "    states = []\n",
    "    for t in range(T):\n",
    "        #env.render()\n",
    "        states.append(state)\n",
    "        if Beta >= random.uniform(0,1):\n",
    "            expert_action = expert.act(state)\n",
    "            action = expert_action\n",
    "        else:\n",
    "            state = torch.from_numpy(state).float().unsqueeze(0).to(device)\n",
    "            learner.eval()\n",
    "            with torch.no_grad():\n",
    "                action_values = learner(state)\n",
    "            learner.train()\n",
    "            action = np.argmax(action_values.cpu().data.numpy()).astype(np.int32)\n",
    "            \n",
    "        next_state, reward, done, _ = env.step(action)\n",
    "        score += reward\n",
    "        state = next_state\n",
    "        if done:\n",
    "            env.reset()\n",
    "    states = torch.tensor(states).to(device)\n",
    "    D_states = states if D_states==None else torch.cat([D_states, states])\n",
    "    with torch.no_grad():\n",
    "        D_actions = torch.argmax(expert.brain(D_states), dim=-1)\n",
    "    loss = train_learner(learner, X=D_states, y=D_actions, optim=optimizer)\n",
    "    losses.append(loss)\n",
    "    #print(D_states.shape, D_actions.shape)\n",
    "    #print(f\"Score:{score}\")\n",
    "    episode_loop.set_description_str('Episode {} | Beta: {:.5f} | loss: {:.3f}| Testing ...'.format(i, Beta, loss))\n",
    "    score = test_agent(agent=learner, env=env, epochs=1)\n",
    "    testing_scores.append(score)\n",
    "    episode_loop.set_description_str('Episode {} | Beta: {:.5f} | loss: {:.3f}| Test score: {:.3f}'.format(i, Beta, loss, score))\n",
    "    time.sleep(2)\n",
    "time.sleep(1)\n",
    "torch.save(learner, \"dagger_agent.pth\")\n",
    "env.close() # closing the environment"
   ]
  },
  {
   "cell_type": "markdown",
   "id": "54ae8751",
   "metadata": {},
   "source": [
    "## Plotting the Loss and Testing Rewards:"
   ]
  },
  {
   "cell_type": "code",
   "execution_count": 8,
   "id": "89ea6b4d",
   "metadata": {},
   "outputs": [
    {
     "data": {
      "image/png": "[encoded data removed]",
      "text/plain": [
       "<Figure size 576x396 with 1 Axes>"
      ]
     },
     "metadata": {},
     "output_type": "display_data"
    }
   ],
   "source": [
    "import matplotlib.pyplot as plt\n",
    "plt.style.use(\"seaborn\")\n",
    "\n",
    "losses, testing_scores = np.array(losses), np.array(testing_scores)\n",
    "plt.plot(range(1,len(losses)+1), losses, label=\"loss\")\n",
    "plt.plot(range(1,len(testing_scores)+1), testing_scores, label=\"test_scores\")\n",
    "plt.legend()\n",
    "plt.show()"
   ]
  },
  {
   "cell_type": "markdown",
   "id": "9712d2c0",
   "metadata": {},
   "source": [
    "## The Final Performance of the Imitation Learning Agent:"
   ]
  },
  {
   "cell_type": "code",
   "execution_count": 10,
   "id": "ac1b1848",
   "metadata": {},
   "outputs": [
    {
     "name": "stdout",
     "output_type": "stream",
     "text": [
      "299.4762100465382\n",
      "250.97276115556005\n",
      "286.5677899781475\n"
     ]
    }
   ],
   "source": [
    "learner = torch.load(\"dagger_agent.pth\")\n",
    "for _ in range(3):\n",
    "    reward = test_agent(agent=learner, env=env)\n",
    "    print(reward)"
   ]
  },
  {
   "cell_type": "markdown",
   "id": "e1de1243",
   "metadata": {},
   "source": [
    "<hr>"
   ]
  }
 ],
 "metadata": {
  "kernelspec": {
   "display_name": "Python 3",
   "language": "python",
   "name": "python3"
  },
  "language_info": {
   "codemirror_mode": {
    "name": "ipython",
    "version": 3
   },
   "file_extension": ".py",
   "mimetype": "text/x-python",
   "name": "python",
   "nbconvert_exporter": "python",
   "pygments_lexer": "ipython3",
   "version": "3.8.8"
  }
 },
 "nbformat": 4,
 "nbformat_minor": 5
}
