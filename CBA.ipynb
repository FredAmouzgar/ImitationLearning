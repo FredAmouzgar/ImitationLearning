{
 "cells": [
  {
   "cell_type": "markdown",
   "id": "a855cf77",
   "metadata": {},
   "source": [
    "# CBA (Confidence-Based Autonomy)\n",
    "## An Online and Interactive Confidence-Based Imitation Learning Algorithm"
   ]
  },
  {
   "cell_type": "markdown",
   "id": "32281c25",
   "metadata": {},
   "source": [
    "<img src=\"https://raw.githubusercontent.com/FredAmouzgar/ImitationLearning/main/imgs/CBA.png\" width=700>\n",
    "\n",
    "Source: CBA paper <a href=\"https://www.aaai.org/Papers/JAIR/Vol34/JAIR-3401.pdf\">Interactive Policy Learning through Confidence-Based Autonomy</a>\n",
    "\n",
    "<img src=\"https://raw.githubusercontent.com/FredAmouzgar/ImitationLearning/main/imgs/CBA2.png\" width=700>\n",
    "Source: <a href=\"https://arxiv.org/abs/1811.06711\">An Algorithmic Perspective on Imitation Learning</a>"
   ]
  },
  {
   "cell_type": "markdown",
   "id": "1441cf93",
   "metadata": {},
   "source": [
    "## Defining the CBA agents' Neural Networks"
   ]
  },
  {
   "cell_type": "code",
   "execution_count": 1,
   "id": "4b5d30bc",
   "metadata": {},
   "outputs": [
    {
     "name": "stdout",
     "output_type": "stream",
     "text": [
      "<LunarLander<LunarLander-v2>> environment started ...\n",
      "Init state: [-2.5072097e-04  1.4074726e+00 -2.5412774e-02 -1.5322576e-01\n",
      "  2.9734275e-04  5.7563586e-03  0.0000000e+00  0.0000000e+00]\n"
     ]
    }
   ],
   "source": [
    "import torch\n",
    "import torch.nn as nn\n",
    "import torch.nn.functional as F\n",
    "from torch.utils.data import TensorDataset, DataLoader\n",
    "import numpy as np\n",
    "import time, random, gym\n",
    "from tqdm import tqdm\n",
    "\n",
    "device = torch.device(\"cuda:0\" if torch.cuda.is_available() else \"cpu\")\n",
    "\n",
    "env = gym.make(\"LunarLander-v2\")\n",
    "print(env.unwrapped, \"environment started ...\")\n",
    "\n",
    "# reset the environment\n",
    "state = env.reset()\n",
    "print(\"Init state:\", state)\n",
    "\n",
    "# number of actions\n",
    "action_size = env.action_space.n\n",
    "\n",
    "# Init the state space and finding its size\n",
    "state_size = env.observation_space.shape[0]\n",
    "\n",
    "class Network(nn.Module):\n",
    "    def __init__(self, state_size, action_size):\n",
    "        \"\"\"Initialize parameters and build model.\n",
    "        Params\n",
    "        ======\n",
    "            state_size (int): Dimension of each state\n",
    "            action_size (int): Dimension of each action\n",
    "        \"\"\"\n",
    "        super(Network, self).__init__()\n",
    "        self.fc1 = nn.Linear(state_size, 64)\n",
    "        self.fc2 = nn.Linear(64, 64)\n",
    "        self.fc3 = nn.Linear(64, action_size)\n",
    "\n",
    "    def forward(self, state):\n",
    "        \"\"\"Builds a network that maps state -> action values.\"\"\"\n",
    "        x = F.relu(self.fc1(state))\n",
    "        x = F.relu(self.fc2(x))\n",
    "        return self.fc3(x)\n",
    "    \n",
    "class LearnerNetwork(nn.Module):\n",
    "    def __init__(self, state_size, action_size): #, seed):\n",
    "        \"\"\"Initialize parameters and build model.\n",
    "        Params\n",
    "        ======\n",
    "            state_size (int): Dimension of each state\n",
    "            action_size (int): Dimension of each action\n",
    "        \"\"\"\n",
    "        super(LearnerNetwork, self).__init__()\n",
    "        self.fc1 = nn.Linear(state_size, 64)\n",
    "        self.fc2 = nn.Linear(64, 64)\n",
    "        self.fc3 = nn.Linear(64, action_size)\n",
    "\n",
    "    def forward(self, state):\n",
    "        \"\"\"Builds a network that maps state -> action values.\"\"\"\n",
    "        x = F.relu(self.fc1(state))\n",
    "        x = F.relu(self.fc2(x))\n",
    "        return self.fc3(x)"
   ]
  },
  {
   "cell_type": "markdown",
   "id": "67483e4f",
   "metadata": {},
   "source": [
    "## The Expert Class"
   ]
  },
  {
   "cell_type": "code",
   "execution_count": 2,
   "id": "ddfbb4f5",
   "metadata": {},
   "outputs": [],
   "source": [
    "class Agent:\n",
    "    \"\"\"Interacts with and learns from the environment.\"\"\"\n",
    "\n",
    "    def __init__(self, state_size, action_size):\n",
    "        self.state_size = state_size\n",
    "        self.action_size = action_size\n",
    "        # Agent's Network\n",
    "        self.brain = Network(state_size, action_size).to(device)\n",
    "\n",
    "    def act(self, state):\n",
    "        \"\"\"Returns actions for given state as per current policy.\"\"\"\n",
    "        state = torch.from_numpy(state).float().unsqueeze(0).to(device)\n",
    "        self.brain.eval()\n",
    "        with torch.no_grad():\n",
    "            action_values = self.brain(state)\n",
    "        self.brain.train()\n",
    "\n",
    "        action = np.argmax(action_values.cpu().data.numpy()).astype(np.int32)\n",
    "        action = np.int32(action)\n",
    "        return action"
   ]
  },
  {
   "cell_type": "markdown",
   "id": "04026cb3",
   "metadata": {},
   "source": [
    "## Loading the Expert and Initializing the Learner"
   ]
  },
  {
   "cell_type": "code",
   "execution_count": 3,
   "id": "9ef7014b",
   "metadata": {},
   "outputs": [
    {
     "name": "stdout",
     "output_type": "stream",
     "text": [
      "Expert loaded ...\n",
      "Learner initialized ...\n"
     ]
    }
   ],
   "source": [
    "# Init our expert\n",
    "expert = Agent(state_size=state_size, action_size=action_size)\n",
    "# Loading expert's brain\n",
    "expert.brain.load_state_dict(torch.load('LunarLander_Expert.pth'))\n",
    "print(\"Expert loaded ...\")\n",
    "\n",
    "learner = LearnerNetwork(state_size=state_size, action_size=action_size).to(device)\n",
    "print(\"Learner initialized ...\")"
   ]
  },
  {
   "cell_type": "markdown",
   "id": "e02ca533",
   "metadata": {},
   "source": [
    "## A function that tests an agent"
   ]
  },
  {
   "cell_type": "code",
   "execution_count": 4,
   "id": "c5ae0be6",
   "metadata": {},
   "outputs": [],
   "source": [
    "def test_agent(agent, env, epochs=1, render=True):\n",
    "    max_t = 5000\n",
    "    for i_episode in range(epochs):\n",
    "        state = env.reset()\n",
    "        score = 0\n",
    "        for t in range(max_t):\n",
    "            env.render() if render else \"\"\n",
    "            time.sleep(0.01)\n",
    "            state = torch.from_numpy(state).float().unsqueeze(0).to(device)\n",
    "            with torch.no_grad():\n",
    "                action_values = agent(state)\n",
    "            action = np.argmax(action_values.cpu().data.numpy()).astype(np.int32)\n",
    "            next_state, reward, done, _ = env.step(action)\n",
    "            score += reward\n",
    "            state = next_state\n",
    "            if done:\n",
    "                break\n",
    "        #print(f\"Score:{score}\")\n",
    "    env.close() # closing the environment\n",
    "    return score"
   ]
  },
  {
   "cell_type": "markdown",
   "id": "024c435d",
   "metadata": {},
   "source": [
    "## Testing the Expert"
   ]
  },
  {
   "cell_type": "code",
   "execution_count": 5,
   "id": "8438843a",
   "metadata": {},
   "outputs": [
    {
     "data": {
      "text/plain": [
       "254.30821254550548"
      ]
     },
     "execution_count": 5,
     "metadata": {},
     "output_type": "execute_result"
    }
   ],
   "source": [
    "test_agent(agent=expert.brain, env=env, epochs=1)"
   ]
  },
  {
   "cell_type": "markdown",
   "id": "3c04515a",
   "metadata": {},
   "source": [
    "## Testing the untrained agent"
   ]
  },
  {
   "cell_type": "code",
   "execution_count": 6,
   "id": "cf81184d",
   "metadata": {},
   "outputs": [
    {
     "data": {
      "text/plain": [
       "-99.00829101815975"
      ]
     },
     "execution_count": 6,
     "metadata": {},
     "output_type": "execute_result"
    }
   ],
   "source": [
    "test_agent(agent=learner, env=env, epochs=1)"
   ]
  },
  {
   "cell_type": "markdown",
   "id": "93a67b90",
   "metadata": {},
   "source": [
    "## Implementing CBA\n",
    "<img src=\"https://raw.githubusercontent.com/FredAmouzgar/ImitationLearning/main/imgs/CBA2.png\" width=500>"
   ]
  },
  {
   "cell_type": "code",
   "execution_count": 7,
   "id": "0a4567a2",
   "metadata": {},
   "outputs": [],
   "source": [
    "def train_learner(learner, X, y, optim):\n",
    "    loss_fn = nn.CrossEntropyLoss()\n",
    "    train_dataset = TensorDataset(X, y)\n",
    "    loss_sum = 0\n",
    "    dataloader = DataLoader(train_dataset, batch_size=64)\n",
    "    for x_batch, y_batch in dataloader:\n",
    "        predictions = learner(x_batch)\n",
    "        loss = loss_fn(predictions, y_batch)\n",
    "        loss_sum += loss\n",
    "        optim.zero_grad()\n",
    "        loss.backward()\n",
    "        optim.step()\n",
    "    return loss_sum / X.shape[0]  # returning average loss\n",
    "\n",
    "def collect_initial_expert_data(env, expert, N=20000, threshold=250, device=\"cuda\"):\n",
    "    state = env.reset()\n",
    "    score = 0\n",
    "    temp_states, states = [], torch.FloatTensor()\n",
    "    temp_actions, actions = [], torch.Tensor()\n",
    "    for t in range(N):\n",
    "        temp_states.append(state)\n",
    "        expert_action = expert.act(state)\n",
    "        temp_actions.append(expert_action)\n",
    "\n",
    "        next_state, reward, done, _ = env.step(expert_action)\n",
    "        score += reward\n",
    "        state = next_state\n",
    "        if done:\n",
    "            env.reset()\n",
    "            if score > threshold:\n",
    "                temp_states, temp_actions = torch.tensor(temp_states), torch.tensor(temp_actions)\n",
    "                states = torch.cat((states, temp_states))\n",
    "                actions = torch.cat((actions, temp_actions))\n",
    "                temp_states, temp_actions = [], []\n",
    "    if len(temp_states) > 0:\n",
    "        temp_states, temp_actions = torch.tensor(temp_states), torch.tensor(temp_actions)\n",
    "        states = torch.cat((states, temp_states))\n",
    "        actions = torch.cat((actions, temp_actions))\n",
    "    return states.to(device), actions.to(torch.long).to(device)"
   ]
  },
  {
   "cell_type": "markdown",
   "id": "f9f7eefe",
   "metadata": {},
   "source": [
    "## Initializing Learner's Policy by collecting 20k trajectories from the Expert (pure supervised learning)"
   ]
  },
  {
   "cell_type": "code",
   "execution_count": 8,
   "id": "adaf637d",
   "metadata": {
    "scrolled": false
   },
   "outputs": [
    {
     "name": "stdout",
     "output_type": "stream",
     "text": [
      "Collected Data shapes: states:torch.Size([20000, 8]), actions:torch.Size([20000])\n",
      "Initial Loss= tensor(0.0177, device='cuda:0', grad_fn=<DivBackward0>)\n"
     ]
    }
   ],
   "source": [
    "D_states, D_actions = collect_initial_expert_data(env, expert, N=20000)\n",
    "print(\"Collected Data shapes: states:{0}, actions:{1}\".format(D_states.shape, D_actions.shape))\n",
    "optimizer = torch.optim.Adam(learner.parameters(), lr=0.001)\n",
    "loss = train_learner(learner, X=D_states, y=D_actions, optim=optimizer)\n",
    "print(\"Initial Loss=\", loss)"
   ]
  },
  {
   "cell_type": "markdown",
   "id": "637c6d4a",
   "metadata": {},
   "source": [
    "## Testing the learner after the policy initialization"
   ]
  },
  {
   "cell_type": "code",
   "execution_count": 9,
   "id": "20873e04",
   "metadata": {},
   "outputs": [
    {
     "data": {
      "text/plain": [
       "-430.63911473816967"
      ]
     },
     "execution_count": 9,
     "metadata": {},
     "output_type": "execute_result"
    }
   ],
   "source": [
    "test_agent(agent=learner, env=env, epochs=1)"
   ]
  },
  {
   "cell_type": "markdown",
   "id": "965df81c",
   "metadata": {},
   "source": [
    "## Interactively training the agent based on its confidence"
   ]
  },
  {
   "cell_type": "code",
   "execution_count": 9,
   "id": "6a9c2ecc",
   "metadata": {
    "scrolled": true
   },
   "outputs": [
    {
     "name": "stderr",
     "output_type": "stream",
     "text": [
      "                                                                                                                        \r"
     ]
    }
   ],
   "source": [
    "T = 5000  # @param ['1000', '5000']\n",
    "N = 25  # @param ['20', '25']\n",
    "C = 0.8  # @param ['0.5', '0.9'] \n",
    "learner_best_score = None\n",
    "testing_scores, losses = [], []\n",
    "expert_no_actions, learner_no_actions = [], []\n",
    "\n",
    "episode_loop = tqdm(range(1, N + 1), desc=\"Episode 0 | Avg Score: None\", leave=False)\n",
    "for i in episode_loop:\n",
    "    state = env.reset()\n",
    "    score = 0\n",
    "    episode_loop.set_description_str('Episode {} | Training ...'.format(i))\n",
    "    states, actions = [], []\n",
    "    expert_action_counter, learner_action_counter = 0, 0\n",
    "    for t in range(T):\n",
    "        state = torch.from_numpy(state).float().unsqueeze(0).to(device)\n",
    "        learner.eval()\n",
    "        with torch.no_grad():\n",
    "            action_values = learner(state)\n",
    "        learner.train()\n",
    "        # Finding the best action that we have the highest confidence about.\n",
    "        if torch.max(F.softmax(action_values, dim=1), dim=1)[0].item() <= C: # if less than C let the expert do it\n",
    "            expert_action_counter += 1\n",
    "            expert_action = expert.act(state.cpu().data.numpy())\n",
    "            action = expert_action\n",
    "            states.append(state.cpu().numpy())\n",
    "            actions.append(action)\n",
    "        else:\n",
    "            learner_action_counter += 1\n",
    "            action = np.argmax(action_values.cpu().data.numpy()).astype(np.int32)\n",
    "            \n",
    "        next_state, reward, done, _ = env.step(action)\n",
    "        score += reward\n",
    "        state = next_state\n",
    "        if done:\n",
    "            env.reset()\n",
    "    states = torch.tensor(states).squeeze().to(device)\n",
    "    actions = torch.tensor(actions).to(torch.long).squeeze().to(device)\n",
    "    D_states = states if D_states==None else torch.cat([D_states, states])\n",
    "    D_actions = actions if D_actions==None else torch.cat([D_actions, actions])\n",
    "    loss = train_learner(learner, X=D_states, y=D_actions, optim=optimizer)\n",
    "    losses.append(loss)\n",
    "    \n",
    "    expert_no_actions.append(expert_action_counter), learner_no_actions.append(learner_action_counter)\n",
    "    episode_loop.set_description_str('Episode {} | loss: {:.3f} | ExpAct = {} | LearnAct ={} | Testing ...'.format(i, loss,\n",
    "                                                                                                                   expert_action_counter,\n",
    "                                                                                                                   learner_action_counter))\n",
    "    \n",
    "    score = test_agent(agent=learner, env=env, epochs=1)\n",
    "    if learner_best_score and score > learner_best_score:\n",
    "        torch.save(learner, \"cba_agent.pth\")\n",
    "    learner_best_score = score if not None or score > learner_best_score else learner_best_score\n",
    "    testing_scores.append(score)\n",
    "    \n",
    "    episode_loop.set_description_str('Episode {} | loss: {:.3f}| Test score: {:.3f}'.format(i, loss, score))\n",
    "    time.sleep(2)\n",
    "env.close() # closing the environment"
   ]
  },
  {
   "cell_type": "markdown",
   "id": "54ae8751",
   "metadata": {},
   "source": [
    "## Plotting the Loss, Testing Rewards, and Number of actions taken by both agents"
   ]
  },
  {
   "cell_type": "code",
   "execution_count": 10,
   "id": "89ea6b4d",
   "metadata": {
    "scrolled": true
   },
   "outputs": [
    {
     "data": {
      "image/png": "[encoded data removed]",
      "text/plain": [
       "<Figure size 576x396 with 1 Axes>"
      ]
     },
     "metadata": {},
     "output_type": "display_data"
    },
    {
     "data": {
      "image/png": "[encoded data removed]",
      "text/plain": [
       "<Figure size 576x396 with 1 Axes>"
      ]
     },
     "metadata": {},
     "output_type": "display_data"
    },
    {
     "data": {
      "image/png": "[encoded data removed]",
      "text/plain": [
       "<Figure size 576x396 with 1 Axes>"
      ]
     },
     "metadata": {},
     "output_type": "display_data"
    }
   ],
   "source": [
    "import matplotlib.pyplot as plt\n",
    "plt.style.use(\"seaborn\")\n",
    "\n",
    "losses, testing_scores = np.array(losses), np.array(testing_scores)\n",
    "expert_no_actions, learner_no_actions = np.array(expert_no_actions), np.array(learner_no_actions)\n",
    "\n",
    "plt.plot(range(1,len(testing_scores)+1), testing_scores, label=\"test_scores\", color=\"green\")\n",
    "plt.legend()\n",
    "plt.show()\n",
    "\n",
    "plt.plot(range(1,len(losses)+1), losses, label=\"Avg_loss\", color=\"red\")\n",
    "plt.legend()\n",
    "plt.show()\n",
    "\n",
    "plt.plot(range(1,len(expert_no_actions)+1), expert_no_actions, label=\"No. of Expert's Actions\", color=\"black\")\n",
    "plt.plot(range(1,len(expert_no_actions)+1), learner_no_actions, label=\"No. of Learner's Actions\", color=\"blue\")\n",
    "plt.legend()\n",
    "plt.show()"
   ]
  },
  {
   "cell_type": "markdown",
   "id": "5c7172af",
   "metadata": {},
   "source": [
    "## Let's test the Learner"
   ]
  },
  {
   "cell_type": "code",
   "execution_count": 11,
   "id": "cb0c48fc",
   "metadata": {},
   "outputs": [
    {
     "name": "stdout",
     "output_type": "stream",
     "text": [
      "Learner's Performance\n",
      "-----------\n",
      "272.87503751868474\t253.4278558214665\t206.8154267735759\t278.08881970306277\t246.70221904436553\t"
     ]
    }
   ],
   "source": [
    "print(\"Learner's Performance\\n-----------\")\n",
    "for i in range(5):\n",
    "    reward = test_agent(agent=learner, env=env, render=True)\n",
    "    print(reward, end=\"\\t\")"
   ]
  },
  {
   "cell_type": "markdown",
   "id": "9712d2c0",
   "metadata": {},
   "source": [
    "## The Final Performance of the Learner and its Comparison to the Expert"
   ]
  },
  {
   "cell_type": "code",
   "execution_count": 12,
   "id": "bb68980f",
   "metadata": {},
   "outputs": [],
   "source": [
    "collect_stats_iters = 200"
   ]
  },
  {
   "cell_type": "code",
   "execution_count": 13,
   "id": "ac1b1848",
   "metadata": {
    "scrolled": true
   },
   "outputs": [
    {
     "name": "stderr",
     "output_type": "stream",
     "text": [
      "\r",
      "  0%|          | 0/200 [00:00<?, ?it/s]"
     ]
    },
    {
     "name": "stdout",
     "output_type": "stream",
     "text": [
      "Examining Learner\n",
      "-----------\n"
     ]
    },
    {
     "name": "stderr",
     "output_type": "stream",
     "text": [
      "100%|██████████| 200/200 [13:46<00:00,  4.13s/it]\n",
      "  0%|          | 0/200 [00:00<?, ?it/s]"
     ]
    },
    {
     "name": "stdout",
     "output_type": "stream",
     "text": [
      "Examining Expert-----------\n"
     ]
    },
    {
     "name": "stderr",
     "output_type": "stream",
     "text": [
      "100%|██████████| 200/200 [11:51<00:00,  3.56s/it]"
     ]
    },
    {
     "name": "stdout",
     "output_type": "stream",
     "text": [
      "Learner Mean: 251.42062527949238 Learner std: 62.258536027004695\n",
      "Expert Mean: 255.08344299533834 Expert std: 52.89260008040917\n"
     ]
    },
    {
     "name": "stderr",
     "output_type": "stream",
     "text": [
      "\n"
     ]
    }
   ],
   "source": [
    "learner = torch.load(\"cba_agent.pth\")\n",
    "\n",
    "expert_res, learner_res = [], []\n",
    "print(\"Examining Learner\\n-----------\")\n",
    "for i in tqdm(range(collect_stats_iters)):\n",
    "    reward = test_agent(agent=learner, env=env, render=False)\n",
    "    learner_res.append(reward)\n",
    "    #print(reward, end=\"\\t\")\n",
    "\n",
    "    \n",
    "print(\"Examining Expert-----------\")\n",
    "for i in tqdm(range(collect_stats_iters)):\n",
    "    reward = test_agent(agent=expert.brain, env=env, render=False)\n",
    "    expert_res.append(reward)\n",
    "    #print(reward, end=\"\\t\")\n",
    "    \n",
    "learner_res = np.array(learner_res)\n",
    "expert_res = np.array(expert_res)\n",
    "\n",
    "\n",
    "print(\"Learner Mean:\", learner_res.mean(), \"Learner std:\", learner_res.std())\n",
    "print(\"Expert Mean:\", expert_res.mean(), \"Expert std:\", expert_res.std())"
   ]
  },
  {
   "cell_type": "code",
   "execution_count": 14,
   "id": "a3f14a14",
   "metadata": {
    "scrolled": true
   },
   "outputs": [
    {
     "data": {
      "image/png": "[encoded data removed]",
      "text/plain": [
       "<Figure size 576x396 with 1 Axes>"
      ]
     },
     "metadata": {},
     "output_type": "display_data"
    }
   ],
   "source": [
    "import matplotlib.pyplot as plt\n",
    "\n",
    "plt.hist(learner_res, bins=100, label=\"Learner\", alpha=0.5, color=\"red\")\n",
    "plt.hist(expert_res, bins=100, label=\"Expert\", alpha=0.3, color=\"blue\")\n",
    "plt.legend()\n",
    "plt.show()"
   ]
  },
  {
   "cell_type": "markdown",
   "id": "e1de1243",
   "metadata": {},
   "source": [
    "<hr>"
   ]
  }
 ],
 "metadata": {
  "kernelspec": {
   "display_name": "Python 3",
   "language": "python",
   "name": "python3"
  },
  "language_info": {
   "codemirror_mode": {
    "name": "ipython",
    "version": 3
   },
   "file_extension": ".py",
   "mimetype": "text/x-python",
   "name": "python",
   "nbconvert_exporter": "python",
   "pygments_lexer": "ipython3",
   "version": "3.8.8"
  }
 },
 "nbformat": 4,
 "nbformat_minor": 5
}
